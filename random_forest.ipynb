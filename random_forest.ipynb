{
 "cells": [
  {
   "cell_type": "code",
   "execution_count": 1,
   "metadata": {},
   "outputs": [
    {
     "name": "stdout",
     "output_type": "stream",
     "text": [
      "Requirement already up-to-date: sklearn in /Users/budchris/opt/anaconda3/envs/PythonAdv/lib/python3.6/site-packages (0.0)\r\n",
      "Requirement already satisfied, skipping upgrade: scikit-learn in /Users/budchris/opt/anaconda3/envs/PythonAdv/lib/python3.6/site-packages (from sklearn) (0.23.1)\r\n",
      "Requirement already satisfied, skipping upgrade: numpy>=1.13.3 in /Users/budchris/opt/anaconda3/envs/PythonAdv/lib/python3.6/site-packages (from scikit-learn->sklearn) (1.18.5)\r\n",
      "Requirement already satisfied, skipping upgrade: joblib>=0.11 in /Users/budchris/opt/anaconda3/envs/PythonAdv/lib/python3.6/site-packages (from scikit-learn->sklearn) (0.15.1)\r\n",
      "Requirement already satisfied, skipping upgrade: scipy>=0.19.1 in /Users/budchris/opt/anaconda3/envs/PythonAdv/lib/python3.6/site-packages (from scikit-learn->sklearn) (1.5.0)\r\n",
      "Requirement already satisfied, skipping upgrade: threadpoolctl>=2.0.0 in /Users/budchris/opt/anaconda3/envs/PythonAdv/lib/python3.6/site-packages (from scikit-learn->sklearn) (2.1.0)\r\n"
     ]
    }
   ],
   "source": [
    "# Update sklearn to prevent version mismatches\n",
    "!pip install sklearn --upgrade"
   ]
  },
  {
   "cell_type": "code",
   "execution_count": 2,
   "metadata": {},
   "outputs": [
    {
     "name": "stdout",
     "output_type": "stream",
     "text": [
      "Requirement already satisfied: joblib in /Users/budchris/opt/anaconda3/envs/PythonAdv/lib/python3.6/site-packages (0.15.1)\r\n"
     ]
    }
   ],
   "source": [
    "# install joblib. This will be used to save your model. \n",
    "# Restart your kernel after installing \n",
    "!pip install joblib"
   ]
  },
  {
   "cell_type": "code",
   "execution_count": 3,
   "metadata": {},
   "outputs": [],
   "source": [
    "import pandas as pd"
   ]
  },
  {
   "cell_type": "markdown",
   "metadata": {},
   "source": [
    "# Read the CSV and Perform Basic Data Cleaning"
   ]
  },
  {
   "cell_type": "code",
   "execution_count": 4,
   "metadata": {},
   "outputs": [
    {
     "data": {
      "text/html": [
       "<div>\n",
       "<style scoped>\n",
       "    .dataframe tbody tr th:only-of-type {\n",
       "        vertical-align: middle;\n",
       "    }\n",
       "\n",
       "    .dataframe tbody tr th {\n",
       "        vertical-align: top;\n",
       "    }\n",
       "\n",
       "    .dataframe thead th {\n",
       "        text-align: right;\n",
       "    }\n",
       "</style>\n",
       "<table border=\"1\" class=\"dataframe\">\n",
       "  <thead>\n",
       "    <tr style=\"text-align: right;\">\n",
       "      <th></th>\n",
       "      <th>koi_disposition</th>\n",
       "      <th>koi_fpflag_nt</th>\n",
       "      <th>koi_fpflag_ss</th>\n",
       "      <th>koi_fpflag_co</th>\n",
       "      <th>koi_fpflag_ec</th>\n",
       "      <th>koi_period</th>\n",
       "      <th>koi_period_err1</th>\n",
       "      <th>koi_period_err2</th>\n",
       "      <th>koi_time0bk</th>\n",
       "      <th>koi_time0bk_err1</th>\n",
       "      <th>...</th>\n",
       "      <th>koi_steff_err2</th>\n",
       "      <th>koi_slogg</th>\n",
       "      <th>koi_slogg_err1</th>\n",
       "      <th>koi_slogg_err2</th>\n",
       "      <th>koi_srad</th>\n",
       "      <th>koi_srad_err1</th>\n",
       "      <th>koi_srad_err2</th>\n",
       "      <th>ra</th>\n",
       "      <th>dec</th>\n",
       "      <th>koi_kepmag</th>\n",
       "    </tr>\n",
       "  </thead>\n",
       "  <tbody>\n",
       "    <tr>\n",
       "      <th>0</th>\n",
       "      <td>CONFIRMED</td>\n",
       "      <td>0</td>\n",
       "      <td>0</td>\n",
       "      <td>0</td>\n",
       "      <td>0</td>\n",
       "      <td>54.418383</td>\n",
       "      <td>2.479000e-04</td>\n",
       "      <td>-2.479000e-04</td>\n",
       "      <td>162.513840</td>\n",
       "      <td>0.003520</td>\n",
       "      <td>...</td>\n",
       "      <td>-81</td>\n",
       "      <td>4.467</td>\n",
       "      <td>0.064</td>\n",
       "      <td>-0.096</td>\n",
       "      <td>0.927</td>\n",
       "      <td>0.105</td>\n",
       "      <td>-0.061</td>\n",
       "      <td>291.93423</td>\n",
       "      <td>48.141651</td>\n",
       "      <td>15.347</td>\n",
       "    </tr>\n",
       "    <tr>\n",
       "      <th>1</th>\n",
       "      <td>FALSE POSITIVE</td>\n",
       "      <td>0</td>\n",
       "      <td>1</td>\n",
       "      <td>0</td>\n",
       "      <td>0</td>\n",
       "      <td>19.899140</td>\n",
       "      <td>1.490000e-05</td>\n",
       "      <td>-1.490000e-05</td>\n",
       "      <td>175.850252</td>\n",
       "      <td>0.000581</td>\n",
       "      <td>...</td>\n",
       "      <td>-176</td>\n",
       "      <td>4.544</td>\n",
       "      <td>0.044</td>\n",
       "      <td>-0.176</td>\n",
       "      <td>0.868</td>\n",
       "      <td>0.233</td>\n",
       "      <td>-0.078</td>\n",
       "      <td>297.00482</td>\n",
       "      <td>48.134129</td>\n",
       "      <td>15.436</td>\n",
       "    </tr>\n",
       "    <tr>\n",
       "      <th>2</th>\n",
       "      <td>FALSE POSITIVE</td>\n",
       "      <td>0</td>\n",
       "      <td>1</td>\n",
       "      <td>0</td>\n",
       "      <td>0</td>\n",
       "      <td>1.736952</td>\n",
       "      <td>2.630000e-07</td>\n",
       "      <td>-2.630000e-07</td>\n",
       "      <td>170.307565</td>\n",
       "      <td>0.000115</td>\n",
       "      <td>...</td>\n",
       "      <td>-174</td>\n",
       "      <td>4.564</td>\n",
       "      <td>0.053</td>\n",
       "      <td>-0.168</td>\n",
       "      <td>0.791</td>\n",
       "      <td>0.201</td>\n",
       "      <td>-0.067</td>\n",
       "      <td>285.53461</td>\n",
       "      <td>48.285210</td>\n",
       "      <td>15.597</td>\n",
       "    </tr>\n",
       "    <tr>\n",
       "      <th>3</th>\n",
       "      <td>CONFIRMED</td>\n",
       "      <td>0</td>\n",
       "      <td>0</td>\n",
       "      <td>0</td>\n",
       "      <td>0</td>\n",
       "      <td>2.525592</td>\n",
       "      <td>3.760000e-06</td>\n",
       "      <td>-3.760000e-06</td>\n",
       "      <td>171.595550</td>\n",
       "      <td>0.001130</td>\n",
       "      <td>...</td>\n",
       "      <td>-211</td>\n",
       "      <td>4.438</td>\n",
       "      <td>0.070</td>\n",
       "      <td>-0.210</td>\n",
       "      <td>1.046</td>\n",
       "      <td>0.334</td>\n",
       "      <td>-0.133</td>\n",
       "      <td>288.75488</td>\n",
       "      <td>48.226200</td>\n",
       "      <td>15.509</td>\n",
       "    </tr>\n",
       "    <tr>\n",
       "      <th>4</th>\n",
       "      <td>CONFIRMED</td>\n",
       "      <td>0</td>\n",
       "      <td>0</td>\n",
       "      <td>0</td>\n",
       "      <td>0</td>\n",
       "      <td>4.134435</td>\n",
       "      <td>1.050000e-05</td>\n",
       "      <td>-1.050000e-05</td>\n",
       "      <td>172.979370</td>\n",
       "      <td>0.001900</td>\n",
       "      <td>...</td>\n",
       "      <td>-232</td>\n",
       "      <td>4.486</td>\n",
       "      <td>0.054</td>\n",
       "      <td>-0.229</td>\n",
       "      <td>0.972</td>\n",
       "      <td>0.315</td>\n",
       "      <td>-0.105</td>\n",
       "      <td>296.28613</td>\n",
       "      <td>48.224670</td>\n",
       "      <td>15.714</td>\n",
       "    </tr>\n",
       "  </tbody>\n",
       "</table>\n",
       "<p>5 rows × 41 columns</p>\n",
       "</div>"
      ],
      "text/plain": [
       "  koi_disposition  koi_fpflag_nt  koi_fpflag_ss  koi_fpflag_co  koi_fpflag_ec  \\\n",
       "0       CONFIRMED              0              0              0              0   \n",
       "1  FALSE POSITIVE              0              1              0              0   \n",
       "2  FALSE POSITIVE              0              1              0              0   \n",
       "3       CONFIRMED              0              0              0              0   \n",
       "4       CONFIRMED              0              0              0              0   \n",
       "\n",
       "   koi_period  koi_period_err1  koi_period_err2  koi_time0bk  \\\n",
       "0   54.418383     2.479000e-04    -2.479000e-04   162.513840   \n",
       "1   19.899140     1.490000e-05    -1.490000e-05   175.850252   \n",
       "2    1.736952     2.630000e-07    -2.630000e-07   170.307565   \n",
       "3    2.525592     3.760000e-06    -3.760000e-06   171.595550   \n",
       "4    4.134435     1.050000e-05    -1.050000e-05   172.979370   \n",
       "\n",
       "   koi_time0bk_err1  ...  koi_steff_err2  koi_slogg  koi_slogg_err1  \\\n",
       "0          0.003520  ...             -81      4.467           0.064   \n",
       "1          0.000581  ...            -176      4.544           0.044   \n",
       "2          0.000115  ...            -174      4.564           0.053   \n",
       "3          0.001130  ...            -211      4.438           0.070   \n",
       "4          0.001900  ...            -232      4.486           0.054   \n",
       "\n",
       "   koi_slogg_err2  koi_srad  koi_srad_err1  koi_srad_err2         ra  \\\n",
       "0          -0.096     0.927          0.105         -0.061  291.93423   \n",
       "1          -0.176     0.868          0.233         -0.078  297.00482   \n",
       "2          -0.168     0.791          0.201         -0.067  285.53461   \n",
       "3          -0.210     1.046          0.334         -0.133  288.75488   \n",
       "4          -0.229     0.972          0.315         -0.105  296.28613   \n",
       "\n",
       "         dec  koi_kepmag  \n",
       "0  48.141651      15.347  \n",
       "1  48.134129      15.436  \n",
       "2  48.285210      15.597  \n",
       "3  48.226200      15.509  \n",
       "4  48.224670      15.714  \n",
       "\n",
       "[5 rows x 41 columns]"
      ]
     },
     "execution_count": 4,
     "metadata": {},
     "output_type": "execute_result"
    }
   ],
   "source": [
    "df = pd.read_csv(\"exoplanet_data.csv\")\n",
    "# Drop the null columns where all values are null\n",
    "df = df.dropna(axis='columns', how='all')\n",
    "# Drop the null rows\n",
    "df = df.dropna()\n",
    "df.head()"
   ]
  },
  {
   "cell_type": "markdown",
   "metadata": {},
   "source": [
    "# Select your features (columns)"
   ]
  },
  {
   "cell_type": "code",
   "execution_count": 5,
   "metadata": {},
   "outputs": [],
   "source": [
    "# Set features. This will also be used as your x values.\n",
    "# selected_features = df[['names', 'of', 'selected', 'features', 'here']]\n",
    "selected_features = df"
   ]
  },
  {
   "cell_type": "markdown",
   "metadata": {},
   "source": [
    "# Create a Train Test Split\n",
    "\n",
    "Use `koi_disposition` for the y values"
   ]
  },
  {
   "cell_type": "code",
   "execution_count": 6,
   "metadata": {},
   "outputs": [
    {
     "name": "stdout",
     "output_type": "stream",
     "text": [
      "(6991, 40) (6991,)\n"
     ]
    }
   ],
   "source": [
    "# Assign x and y values\n",
    "X = df.drop(\"koi_disposition\", axis=1)\n",
    "y = df[\"koi_disposition\"]\n",
    "\n",
    "print(X.shape, y.shape)"
   ]
  },
  {
   "cell_type": "code",
   "execution_count": 7,
   "metadata": {},
   "outputs": [],
   "source": [
    "from sklearn.model_selection import train_test_split\n",
    "from sklearn.preprocessing import LabelEncoder, MinMaxScaler\n",
    "\n",
    "\n",
    "# Split data into training and testing\n",
    "X_train, X_test, y_train, y_test = train_test_split(X, y, random_state=115, stratify=y)"
   ]
  },
  {
   "cell_type": "code",
   "execution_count": 8,
   "metadata": {},
   "outputs": [
    {
     "data": {
      "text/html": [
       "<div>\n",
       "<style scoped>\n",
       "    .dataframe tbody tr th:only-of-type {\n",
       "        vertical-align: middle;\n",
       "    }\n",
       "\n",
       "    .dataframe tbody tr th {\n",
       "        vertical-align: top;\n",
       "    }\n",
       "\n",
       "    .dataframe thead th {\n",
       "        text-align: right;\n",
       "    }\n",
       "</style>\n",
       "<table border=\"1\" class=\"dataframe\">\n",
       "  <thead>\n",
       "    <tr style=\"text-align: right;\">\n",
       "      <th></th>\n",
       "      <th>koi_fpflag_nt</th>\n",
       "      <th>koi_fpflag_ss</th>\n",
       "      <th>koi_fpflag_co</th>\n",
       "      <th>koi_fpflag_ec</th>\n",
       "      <th>koi_period</th>\n",
       "      <th>koi_period_err1</th>\n",
       "      <th>koi_period_err2</th>\n",
       "      <th>koi_time0bk</th>\n",
       "      <th>koi_time0bk_err1</th>\n",
       "      <th>koi_time0bk_err2</th>\n",
       "      <th>...</th>\n",
       "      <th>koi_steff_err2</th>\n",
       "      <th>koi_slogg</th>\n",
       "      <th>koi_slogg_err1</th>\n",
       "      <th>koi_slogg_err2</th>\n",
       "      <th>koi_srad</th>\n",
       "      <th>koi_srad_err1</th>\n",
       "      <th>koi_srad_err2</th>\n",
       "      <th>ra</th>\n",
       "      <th>dec</th>\n",
       "      <th>koi_kepmag</th>\n",
       "    </tr>\n",
       "  </thead>\n",
       "  <tbody>\n",
       "    <tr>\n",
       "      <th>2700</th>\n",
       "      <td>0</td>\n",
       "      <td>0</td>\n",
       "      <td>0</td>\n",
       "      <td>0</td>\n",
       "      <td>31.804760</td>\n",
       "      <td>0.000091</td>\n",
       "      <td>-0.000091</td>\n",
       "      <td>190.25413</td>\n",
       "      <td>0.00224</td>\n",
       "      <td>-0.00224</td>\n",
       "      <td>...</td>\n",
       "      <td>-128</td>\n",
       "      <td>4.235</td>\n",
       "      <td>0.143</td>\n",
       "      <td>-0.117</td>\n",
       "      <td>1.356</td>\n",
       "      <td>0.212</td>\n",
       "      <td>-0.259</td>\n",
       "      <td>287.62082</td>\n",
       "      <td>43.141647</td>\n",
       "      <td>13.178</td>\n",
       "    </tr>\n",
       "    <tr>\n",
       "      <th>21</th>\n",
       "      <td>0</td>\n",
       "      <td>0</td>\n",
       "      <td>0</td>\n",
       "      <td>0</td>\n",
       "      <td>4.280964</td>\n",
       "      <td>0.000006</td>\n",
       "      <td>-0.000006</td>\n",
       "      <td>171.89659</td>\n",
       "      <td>0.00115</td>\n",
       "      <td>-0.00115</td>\n",
       "      <td>...</td>\n",
       "      <td>-169</td>\n",
       "      <td>4.564</td>\n",
       "      <td>0.032</td>\n",
       "      <td>-0.168</td>\n",
       "      <td>0.831</td>\n",
       "      <td>0.207</td>\n",
       "      <td>-0.069</td>\n",
       "      <td>294.26581</td>\n",
       "      <td>49.314091</td>\n",
       "      <td>15.356</td>\n",
       "    </tr>\n",
       "    <tr>\n",
       "      <th>5040</th>\n",
       "      <td>0</td>\n",
       "      <td>1</td>\n",
       "      <td>1</td>\n",
       "      <td>0</td>\n",
       "      <td>0.829019</td>\n",
       "      <td>0.000002</td>\n",
       "      <td>-0.000002</td>\n",
       "      <td>131.46667</td>\n",
       "      <td>0.00401</td>\n",
       "      <td>-0.00401</td>\n",
       "      <td>...</td>\n",
       "      <td>-255</td>\n",
       "      <td>4.271</td>\n",
       "      <td>0.124</td>\n",
       "      <td>-0.186</td>\n",
       "      <td>1.328</td>\n",
       "      <td>0.408</td>\n",
       "      <td>-0.220</td>\n",
       "      <td>296.03485</td>\n",
       "      <td>45.490822</td>\n",
       "      <td>14.661</td>\n",
       "    </tr>\n",
       "    <tr>\n",
       "      <th>2795</th>\n",
       "      <td>0</td>\n",
       "      <td>0</td>\n",
       "      <td>1</td>\n",
       "      <td>0</td>\n",
       "      <td>1.387838</td>\n",
       "      <td>0.000006</td>\n",
       "      <td>-0.000006</td>\n",
       "      <td>132.11351</td>\n",
       "      <td>0.00318</td>\n",
       "      <td>-0.00318</td>\n",
       "      <td>...</td>\n",
       "      <td>-219</td>\n",
       "      <td>4.442</td>\n",
       "      <td>0.054</td>\n",
       "      <td>-0.216</td>\n",
       "      <td>1.044</td>\n",
       "      <td>0.335</td>\n",
       "      <td>-0.112</td>\n",
       "      <td>295.64212</td>\n",
       "      <td>48.773071</td>\n",
       "      <td>15.167</td>\n",
       "    </tr>\n",
       "    <tr>\n",
       "      <th>1765</th>\n",
       "      <td>0</td>\n",
       "      <td>0</td>\n",
       "      <td>0</td>\n",
       "      <td>0</td>\n",
       "      <td>14.383227</td>\n",
       "      <td>0.000086</td>\n",
       "      <td>-0.000086</td>\n",
       "      <td>140.57648</td>\n",
       "      <td>0.00530</td>\n",
       "      <td>-0.00530</td>\n",
       "      <td>...</td>\n",
       "      <td>-135</td>\n",
       "      <td>4.249</td>\n",
       "      <td>0.137</td>\n",
       "      <td>-0.112</td>\n",
       "      <td>1.291</td>\n",
       "      <td>0.216</td>\n",
       "      <td>-0.216</td>\n",
       "      <td>290.08276</td>\n",
       "      <td>50.863480</td>\n",
       "      <td>13.312</td>\n",
       "    </tr>\n",
       "  </tbody>\n",
       "</table>\n",
       "<p>5 rows × 40 columns</p>\n",
       "</div>"
      ],
      "text/plain": [
       "      koi_fpflag_nt  koi_fpflag_ss  koi_fpflag_co  koi_fpflag_ec  koi_period  \\\n",
       "2700              0              0              0              0   31.804760   \n",
       "21                0              0              0              0    4.280964   \n",
       "5040              0              1              1              0    0.829019   \n",
       "2795              0              0              1              0    1.387838   \n",
       "1765              0              0              0              0   14.383227   \n",
       "\n",
       "      koi_period_err1  koi_period_err2  koi_time0bk  koi_time0bk_err1  \\\n",
       "2700         0.000091        -0.000091    190.25413           0.00224   \n",
       "21           0.000006        -0.000006    171.89659           0.00115   \n",
       "5040         0.000002        -0.000002    131.46667           0.00401   \n",
       "2795         0.000006        -0.000006    132.11351           0.00318   \n",
       "1765         0.000086        -0.000086    140.57648           0.00530   \n",
       "\n",
       "      koi_time0bk_err2  ...  koi_steff_err2  koi_slogg  koi_slogg_err1  \\\n",
       "2700          -0.00224  ...            -128      4.235           0.143   \n",
       "21            -0.00115  ...            -169      4.564           0.032   \n",
       "5040          -0.00401  ...            -255      4.271           0.124   \n",
       "2795          -0.00318  ...            -219      4.442           0.054   \n",
       "1765          -0.00530  ...            -135      4.249           0.137   \n",
       "\n",
       "      koi_slogg_err2  koi_srad  koi_srad_err1  koi_srad_err2         ra  \\\n",
       "2700          -0.117     1.356          0.212         -0.259  287.62082   \n",
       "21            -0.168     0.831          0.207         -0.069  294.26581   \n",
       "5040          -0.186     1.328          0.408         -0.220  296.03485   \n",
       "2795          -0.216     1.044          0.335         -0.112  295.64212   \n",
       "1765          -0.112     1.291          0.216         -0.216  290.08276   \n",
       "\n",
       "            dec  koi_kepmag  \n",
       "2700  43.141647      13.178  \n",
       "21    49.314091      15.356  \n",
       "5040  45.490822      14.661  \n",
       "2795  48.773071      15.167  \n",
       "1765  50.863480      13.312  \n",
       "\n",
       "[5 rows x 40 columns]"
      ]
     },
     "execution_count": 8,
     "metadata": {},
     "output_type": "execute_result"
    }
   ],
   "source": [
    "X_train.head()"
   ]
  },
  {
   "cell_type": "markdown",
   "metadata": {},
   "source": [
    "# Pre-processing\n",
    "\n",
    "Scale the data using the MinMaxScaler and perform some feature selection"
   ]
  },
  {
   "cell_type": "code",
   "execution_count": 9,
   "metadata": {},
   "outputs": [],
   "source": [
    "# Scale your data\n",
    "X_scaler = MinMaxScaler().fit(X_train)\n",
    "X_train_scaled = X_scaler.transform(X_train)\n",
    "X_test_scaled = X_scaler.transform(X_test)"
   ]
  },
  {
   "cell_type": "markdown",
   "metadata": {},
   "source": [
    "# Train the Model\n",
    "\n"
   ]
  },
  {
   "cell_type": "code",
   "execution_count": 10,
   "metadata": {},
   "outputs": [],
   "source": [
    "from sklearn.ensemble import RandomForestClassifier\n",
    "rf = RandomForestClassifier()\n",
    "rf = rf.fit(X_train_scaled, y_train)"
   ]
  },
  {
   "cell_type": "code",
   "execution_count": 11,
   "metadata": {},
   "outputs": [
    {
     "name": "stdout",
     "output_type": "stream",
     "text": [
      "Training Data Score: 1.0\n",
      "Testing Data Score: 0.8890160183066361\n"
     ]
    }
   ],
   "source": [
    "print(f\"Training Data Score: {rf.score(X_train_scaled, y_train)}\")\n",
    "print(f\"Testing Data Score: {rf.score(X_test_scaled, y_test)}\")"
   ]
  },
  {
   "cell_type": "code",
   "execution_count": 12,
   "metadata": {},
   "outputs": [
    {
     "data": {
      "text/plain": [
       "array([0.09939508, 0.07741131, 0.10296777, 0.03636981, 0.02442217,\n",
       "       0.01725907, 0.01739379, 0.01330197, 0.0238859 , 0.02449953,\n",
       "       0.01819049, 0.01114214, 0.01033174, 0.02310159, 0.03422861,\n",
       "       0.02872511, 0.01830285, 0.01476137, 0.01184822, 0.0514712 ,\n",
       "       0.03222312, 0.02458733, 0.01648867, 0.01149112, 0.01953648,\n",
       "       0.01181592, 0.05454539, 0.00268227, 0.0095107 , 0.02812983,\n",
       "       0.03497212, 0.00948101, 0.0094174 , 0.01086211, 0.00941873,\n",
       "       0.01341061, 0.00830222, 0.01305893, 0.01061138, 0.01044493])"
      ]
     },
     "execution_count": 12,
     "metadata": {},
     "output_type": "execute_result"
    }
   ],
   "source": [
    "importances = rf.feature_importances_\n",
    "importances"
   ]
  },
  {
   "cell_type": "code",
   "execution_count": 14,
   "metadata": {},
   "outputs": [
    {
     "data": {
      "text/plain": [
       "[(0.1029677739682649, 'koi_fpflag_ss'),\n",
       " (0.09939508402488308, 'koi_disposition'),\n",
       " (0.07741130664921621, 'koi_fpflag_nt'),\n",
       " (0.05454539121008477, 'koi_insol_err2'),\n",
       " (0.05147120312664044, 'koi_depth_err2'),\n",
       " (0.03636980732064588, 'koi_fpflag_co'),\n",
       " (0.0349721211404392, 'koi_steff_err1'),\n",
       " (0.03422861182061896, 'koi_duration'),\n",
       " (0.03222312484264703, 'koi_prad'),\n",
       " (0.02872511094838556, 'koi_duration_err1'),\n",
       " (0.028129832705841372, 'koi_steff'),\n",
       " (0.024587327990077873, 'koi_prad_err1'),\n",
       " (0.024499528692841766, 'koi_time0bk_err1'),\n",
       " (0.024422173488354956, 'koi_fpflag_ec'),\n",
       " (0.023885901762531105, 'koi_time0bk'),\n",
       " (0.023101586352063018, 'koi_impact_err2'),\n",
       " (0.01953648398105125, 'koi_insol'),\n",
       " (0.018302848067839418, 'koi_duration_err2'),\n",
       " (0.018190489612267484, 'koi_time0bk_err2'),\n",
       " (0.017393786705752826, 'koi_period_err1'),\n",
       " (0.017259065963483325, 'koi_period'),\n",
       " (0.016488667181869934, 'koi_prad_err2'),\n",
       " (0.01476137229694467, 'koi_depth'),\n",
       " (0.013410609155126848, 'koi_srad'),\n",
       " (0.01330196578720076, 'koi_period_err2'),\n",
       " (0.013058934664523318, 'koi_srad_err2'),\n",
       " (0.011848217939217509, 'koi_depth_err1'),\n",
       " (0.011815923432974662, 'koi_insol_err1'),\n",
       " (0.01149111667587217, 'koi_teq'),\n",
       " (0.01114214441234704, 'koi_impact'),\n",
       " (0.010862110818767303, 'koi_slogg_err1'),\n",
       " (0.010611381329018576, 'ra'),\n",
       " (0.010444934370885874, 'dec'),\n",
       " (0.01033173924961738, 'koi_impact_err1'),\n",
       " (0.009510702273988743, 'koi_tce_plnt_num'),\n",
       " (0.00948100728565028, 'koi_steff_err2'),\n",
       " (0.009418728365167104, 'koi_slogg_err2'),\n",
       " (0.009417400459818995, 'koi_slogg'),\n",
       " (0.008302218550781892, 'koi_srad_err1'),\n",
       " (0.0026822653762965383, 'koi_model_snr')]"
      ]
     },
     "execution_count": 14,
     "metadata": {},
     "output_type": "execute_result"
    }
   ],
   "source": [
    "# Sort the features by their importance\n",
    "sorted(zip(rf.feature_importances_, selected_features), reverse=True)"
   ]
  },
  {
   "cell_type": "markdown",
   "metadata": {},
   "source": [
    "# Hyperparameter Tuning\n",
    "\n",
    "Use `GridSearchCV` to tune the model's parameters"
   ]
  },
  {
   "cell_type": "code",
   "execution_count": 15,
   "metadata": {},
   "outputs": [],
   "source": [
    "# Create the GridSearchCV model\n",
    "from sklearn.model_selection import GridSearchCV\n",
    "param_grid = {'n_estimators': [250, 300, 350],\n",
    "              'max_depth': [125, 150, 175]}\n",
    "grid = GridSearchCV(rf, param_grid, verbose=3)"
   ]
  },
  {
   "cell_type": "code",
   "execution_count": 16,
   "metadata": {},
   "outputs": [
    {
     "name": "stdout",
     "output_type": "stream",
     "text": [
      "Fitting 5 folds for each of 9 candidates, totalling 45 fits\n",
      "[CV] max_depth=125, n_estimators=250 .................................\n"
     ]
    },
    {
     "name": "stderr",
     "output_type": "stream",
     "text": [
      "[Parallel(n_jobs=1)]: Using backend SequentialBackend with 1 concurrent workers.\n"
     ]
    },
    {
     "name": "stdout",
     "output_type": "stream",
     "text": [
      "[CV] ..... max_depth=125, n_estimators=250, score=0.902, total=   3.4s\n",
      "[CV] max_depth=125, n_estimators=250 .................................\n"
     ]
    },
    {
     "name": "stderr",
     "output_type": "stream",
     "text": [
      "[Parallel(n_jobs=1)]: Done   1 out of   1 | elapsed:    3.4s remaining:    0.0s\n"
     ]
    },
    {
     "name": "stdout",
     "output_type": "stream",
     "text": [
      "[CV] ..... max_depth=125, n_estimators=250, score=0.896, total=   3.3s\n",
      "[CV] max_depth=125, n_estimators=250 .................................\n"
     ]
    },
    {
     "name": "stderr",
     "output_type": "stream",
     "text": [
      "[Parallel(n_jobs=1)]: Done   2 out of   2 | elapsed:    6.7s remaining:    0.0s\n"
     ]
    },
    {
     "name": "stdout",
     "output_type": "stream",
     "text": [
      "[CV] ..... max_depth=125, n_estimators=250, score=0.896, total=   3.3s\n",
      "[CV] max_depth=125, n_estimators=250 .................................\n",
      "[CV] ..... max_depth=125, n_estimators=250, score=0.898, total=   3.1s\n",
      "[CV] max_depth=125, n_estimators=250 .................................\n",
      "[CV] ..... max_depth=125, n_estimators=250, score=0.894, total=   3.1s\n",
      "[CV] max_depth=125, n_estimators=300 .................................\n",
      "[CV] ..... max_depth=125, n_estimators=300, score=0.900, total=   3.8s\n",
      "[CV] max_depth=125, n_estimators=300 .................................\n",
      "[CV] ..... max_depth=125, n_estimators=300, score=0.893, total=   3.8s\n",
      "[CV] max_depth=125, n_estimators=300 .................................\n",
      "[CV] ..... max_depth=125, n_estimators=300, score=0.894, total=   3.8s\n",
      "[CV] max_depth=125, n_estimators=300 .................................\n",
      "[CV] ..... max_depth=125, n_estimators=300, score=0.894, total=   3.8s\n",
      "[CV] max_depth=125, n_estimators=300 .................................\n",
      "[CV] ..... max_depth=125, n_estimators=300, score=0.900, total=   3.8s\n",
      "[CV] max_depth=125, n_estimators=350 .................................\n",
      "[CV] ..... max_depth=125, n_estimators=350, score=0.903, total=   4.4s\n",
      "[CV] max_depth=125, n_estimators=350 .................................\n",
      "[CV] ..... max_depth=125, n_estimators=350, score=0.892, total=   4.6s\n",
      "[CV] max_depth=125, n_estimators=350 .................................\n",
      "[CV] ..... max_depth=125, n_estimators=350, score=0.900, total=   4.5s\n",
      "[CV] max_depth=125, n_estimators=350 .................................\n",
      "[CV] ..... max_depth=125, n_estimators=350, score=0.897, total=   4.6s\n",
      "[CV] max_depth=125, n_estimators=350 .................................\n",
      "[CV] ..... max_depth=125, n_estimators=350, score=0.898, total=   4.5s\n",
      "[CV] max_depth=150, n_estimators=250 .................................\n",
      "[CV] ..... max_depth=150, n_estimators=250, score=0.904, total=   3.2s\n",
      "[CV] max_depth=150, n_estimators=250 .................................\n",
      "[CV] ..... max_depth=150, n_estimators=250, score=0.891, total=   3.2s\n",
      "[CV] max_depth=150, n_estimators=250 .................................\n",
      "[CV] ..... max_depth=150, n_estimators=250, score=0.895, total=   3.2s\n",
      "[CV] max_depth=150, n_estimators=250 .................................\n",
      "[CV] ..... max_depth=150, n_estimators=250, score=0.896, total=   3.1s\n",
      "[CV] max_depth=150, n_estimators=250 .................................\n",
      "[CV] ..... max_depth=150, n_estimators=250, score=0.893, total=   3.3s\n",
      "[CV] max_depth=150, n_estimators=300 .................................\n",
      "[CV] ..... max_depth=150, n_estimators=300, score=0.902, total=   3.8s\n",
      "[CV] max_depth=150, n_estimators=300 .................................\n",
      "[CV] ..... max_depth=150, n_estimators=300, score=0.893, total=   3.8s\n",
      "[CV] max_depth=150, n_estimators=300 .................................\n",
      "[CV] ..... max_depth=150, n_estimators=300, score=0.893, total=   3.8s\n",
      "[CV] max_depth=150, n_estimators=300 .................................\n",
      "[CV] ..... max_depth=150, n_estimators=300, score=0.895, total=   3.8s\n",
      "[CV] max_depth=150, n_estimators=300 .................................\n",
      "[CV] ..... max_depth=150, n_estimators=300, score=0.891, total=   3.8s\n",
      "[CV] max_depth=150, n_estimators=350 .................................\n",
      "[CV] ..... max_depth=150, n_estimators=350, score=0.901, total=   4.4s\n",
      "[CV] max_depth=150, n_estimators=350 .................................\n",
      "[CV] ..... max_depth=150, n_estimators=350, score=0.889, total=   4.4s\n",
      "[CV] max_depth=150, n_estimators=350 .................................\n",
      "[CV] ..... max_depth=150, n_estimators=350, score=0.891, total=   4.5s\n",
      "[CV] max_depth=150, n_estimators=350 .................................\n",
      "[CV] ..... max_depth=150, n_estimators=350, score=0.894, total=   4.4s\n",
      "[CV] max_depth=150, n_estimators=350 .................................\n",
      "[CV] ..... max_depth=150, n_estimators=350, score=0.892, total=   4.4s\n",
      "[CV] max_depth=175, n_estimators=250 .................................\n",
      "[CV] ..... max_depth=175, n_estimators=250, score=0.900, total=   3.1s\n",
      "[CV] max_depth=175, n_estimators=250 .................................\n",
      "[CV] ..... max_depth=175, n_estimators=250, score=0.889, total=   3.2s\n",
      "[CV] max_depth=175, n_estimators=250 .................................\n",
      "[CV] ..... max_depth=175, n_estimators=250, score=0.896, total=   3.1s\n",
      "[CV] max_depth=175, n_estimators=250 .................................\n",
      "[CV] ..... max_depth=175, n_estimators=250, score=0.894, total=   3.2s\n",
      "[CV] max_depth=175, n_estimators=250 .................................\n",
      "[CV] ..... max_depth=175, n_estimators=250, score=0.892, total=   3.1s\n",
      "[CV] max_depth=175, n_estimators=300 .................................\n",
      "[CV] ..... max_depth=175, n_estimators=300, score=0.908, total=   3.8s\n",
      "[CV] max_depth=175, n_estimators=300 .................................\n",
      "[CV] ..... max_depth=175, n_estimators=300, score=0.894, total=   4.0s\n",
      "[CV] max_depth=175, n_estimators=300 .................................\n",
      "[CV] ..... max_depth=175, n_estimators=300, score=0.892, total=   3.8s\n",
      "[CV] max_depth=175, n_estimators=300 .................................\n",
      "[CV] ..... max_depth=175, n_estimators=300, score=0.896, total=   3.8s\n",
      "[CV] max_depth=175, n_estimators=300 .................................\n",
      "[CV] ..... max_depth=175, n_estimators=300, score=0.898, total=   3.8s\n",
      "[CV] max_depth=175, n_estimators=350 .................................\n",
      "[CV] ..... max_depth=175, n_estimators=350, score=0.905, total=   4.4s\n",
      "[CV] max_depth=175, n_estimators=350 .................................\n",
      "[CV] ..... max_depth=175, n_estimators=350, score=0.892, total=   4.5s\n",
      "[CV] max_depth=175, n_estimators=350 .................................\n",
      "[CV] ..... max_depth=175, n_estimators=350, score=0.899, total=   4.4s\n",
      "[CV] max_depth=175, n_estimators=350 .................................\n",
      "[CV] ..... max_depth=175, n_estimators=350, score=0.900, total=   4.4s\n",
      "[CV] max_depth=175, n_estimators=350 .................................\n",
      "[CV] ..... max_depth=175, n_estimators=350, score=0.896, total=   4.5s\n"
     ]
    },
    {
     "name": "stderr",
     "output_type": "stream",
     "text": [
      "[Parallel(n_jobs=1)]: Done  45 out of  45 | elapsed:  2.9min finished\n"
     ]
    },
    {
     "data": {
      "text/plain": [
       "GridSearchCV(estimator=RandomForestClassifier(),\n",
       "             param_grid={'max_depth': [125, 150, 175],\n",
       "                         'n_estimators': [250, 300, 350]},\n",
       "             verbose=3)"
      ]
     },
     "execution_count": 16,
     "metadata": {},
     "output_type": "execute_result"
    }
   ],
   "source": [
    "# Train the model with GridSearch\n",
    "grid.fit(X_train_scaled, y_train)"
   ]
  },
  {
   "cell_type": "code",
   "execution_count": 17,
   "metadata": {},
   "outputs": [
    {
     "name": "stdout",
     "output_type": "stream",
     "text": [
      "{'max_depth': 175, 'n_estimators': 350}\n",
      "0.8983404769355039\n"
     ]
    }
   ],
   "source": [
    "print(grid.best_params_)\n",
    "print(grid.best_score_)"
   ]
  },
  {
   "cell_type": "code",
   "execution_count": 18,
   "metadata": {},
   "outputs": [
    {
     "name": "stdout",
     "output_type": "stream",
     "text": [
      "Training Grid Score: 1.0\n",
      "Testing Grid Score: 0.8890160183066361\n"
     ]
    }
   ],
   "source": [
    "print(f\"Training Grid Score: {grid.score(X_train_scaled, y_train)}\")\n",
    "print(f\"Testing Grid Score: {grid.score(X_test_scaled, y_test)}\")"
   ]
  },
  {
   "cell_type": "code",
   "execution_count": 19,
   "metadata": {},
   "outputs": [],
   "source": [
    "# Make predictions with the hypertuned model\n",
    "predictions = grid.predict(X_test_scaled)"
   ]
  },
  {
   "cell_type": "code",
   "execution_count": 20,
   "metadata": {},
   "outputs": [
    {
     "name": "stdout",
     "output_type": "stream",
     "text": [
      "                precision    recall  f1-score   support\n",
      "\n",
      "     CANDIDATE       0.82      0.72      0.76       422\n",
      "     CONFIRMED       0.78      0.84      0.81       450\n",
      "FALSE POSITIVE       0.98      1.00      0.99       876\n",
      "\n",
      "      accuracy                           0.89      1748\n",
      "     macro avg       0.86      0.85      0.85      1748\n",
      "  weighted avg       0.89      0.89      0.89      1748\n",
      "\n"
     ]
    }
   ],
   "source": [
    "# Calculate classification report\n",
    "from sklearn.metrics import classification_report\n",
    "print(classification_report(y_test, predictions))"
   ]
  },
  {
   "cell_type": "markdown",
   "metadata": {},
   "source": [
    "# Save the Model"
   ]
  },
  {
   "cell_type": "code",
   "execution_count": 22,
   "metadata": {},
   "outputs": [
    {
     "data": {
      "text/plain": [
       "['solito_rf.sav']"
      ]
     },
     "execution_count": 22,
     "metadata": {},
     "output_type": "execute_result"
    }
   ],
   "source": [
    "# save your model by updating \"your_name\" with your name\n",
    "# and \"your_model\" with your model variable\n",
    "# be sure to turn this in to BCS\n",
    "# if joblib fails to import, try running the command to install in terminal/git-bash\n",
    "import joblib\n",
    "filename = 'solito_rf.sav'\n",
    "joblib.dump(rf, filename)"
   ]
  },
  {
   "cell_type": "code",
   "execution_count": null,
   "metadata": {},
   "outputs": [],
   "source": []
  }
 ],
 "metadata": {
  "kernel_info": {
   "name": "dev"
  },
  "kernelspec": {
   "display_name": "Python 3",
   "language": "python",
   "name": "python3"
  },
  "language_info": {
   "codemirror_mode": {
    "name": "ipython",
    "version": 3
   },
   "file_extension": ".py",
   "mimetype": "text/x-python",
   "name": "python",
   "nbconvert_exporter": "python",
   "pygments_lexer": "ipython3",
   "version": "3.6.10"
  },
  "nteract": {
   "version": "0.12.3"
  }
 },
 "nbformat": 4,
 "nbformat_minor": 2
}
